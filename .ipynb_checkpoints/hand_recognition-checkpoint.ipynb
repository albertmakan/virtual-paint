{
 "cells": [
  {
   "cell_type": "code",
   "execution_count": 2,
   "id": "a174a857",
   "metadata": {},
   "outputs": [],
   "source": [
    "import numpy as np\n",
    "import cv2\n",
    "import mediapipe as mp\n",
    "import math"
   ]
  },
  {
   "cell_type": "code",
   "execution_count": 3,
   "id": "ec17e5d7",
   "metadata": {},
   "outputs": [],
   "source": [
    "draw_utils = mp.solutions.drawing_utils\n",
    "hands = mp.solutions.hands\n",
    "handsObj = hands.Hands()\n",
    "tips = [4, 8, 12, 16, 20]\n",
    "landmark_list = []\n",
    "results = None"
   ]
  },
  {
   "cell_type": "code",
   "execution_count": 4,
   "id": "9e099711",
   "metadata": {},
   "outputs": [],
   "source": [
    "def findHands(img):\n",
    "    global results\n",
    "    rgb = cv2.cvtColor(img, cv2.COLOR_BGR2RGB)\n",
    "    results = handsObj.process(rgb)\n",
    "    landmarks = results.multi_hand_landmarks\n",
    "    if landmarks:\n",
    "        for landmark in landmarks:\n",
    "            draw_utils.draw_landmarks(img, landmark, hands.HAND_CONNECTIONS)\n",
    "    return img"
   ]
  },
  {
   "cell_type": "code",
   "execution_count": 5,
   "id": "060fb154",
   "metadata": {},
   "outputs": [],
   "source": [
    "def position(img):\n",
    "    global landmark_list\n",
    "    x = []\n",
    "    y = []\n",
    "    landmark_list = []\n",
    "    landmarks = results.multi_hand_landmarks\n",
    "    \n",
    "    if landmarks:\n",
    "        hand = landmarks[0]\n",
    "        for i, landmark in enumerate(hand.landmark):\n",
    "            h, w, c = img.shape\n",
    "            cx = int(landmark.x * w)\n",
    "            cy = int(landmark.y * h)\n",
    "            x.append(cx)\n",
    "            y.append(cy)\n",
    "            landmark_list.append([i, cx, cy])\n",
    "            #cv2.circle(img, (cx, cy), 5, (255, 0, 255), cv2.FILLED)\n",
    "    box = []\n",
    "    if(len(x) != 0 and len(y) != 0):\n",
    "        xmin = min(x)\n",
    "        xmax = max(x)\n",
    "        ymin = min(y)\n",
    "        ymax = max(y)\n",
    "        box = [xmin, ymin, xmax, ymax]\n",
    "    return landmark_list, box"
   ]
  },
  {
   "cell_type": "code",
   "execution_count": 1,
   "id": "3f66ce1a",
   "metadata": {},
   "outputs": [],
   "source": [
    "def findFingers():\n",
    "    fingers = []\n",
    "    if landmark_list[tips[0]][1] >= landmark_list[tips[0] - 1][1]:\n",
    "        fingers.append(0)\n",
    "    else:\n",
    "        fingers.append(1)\n",
    "        \n",
    "    for i in range(1, 5):\n",
    "         if landmark_list[tips[i]][2] >= landmark_list[tips[i] - 2][2]:\n",
    "            fingers.append(0)\n",
    "         else:\n",
    "            fingers.append(1)\n",
    "    return fingers"
   ]
  },
  {
   "cell_type": "code",
   "execution_count": 7,
   "id": "2c807913",
   "metadata": {},
   "outputs": [],
   "source": [
    "def distance(poin1, point2, img):\n",
    "    x1, y1 = landmark_list[point1][1:]\n",
    "    x2, y2 = landmark_list[point2][1:]\n",
    "    \n",
    "    cv2.line(img, (x1, y1), (x2, y2), (255, 0, 255), t)\n",
    "    cv2.circle(img, (x1, y1), r, (255, 0, 255), cv2.FILLED)\n",
    "    cv2.circle(img, (x2, y2), r, (255, 0, 255), cv2.FILLED)\n",
    "    cv2.circle(img, (cx, cy), r, (0, 0, 255), cv2.FILLED)\n",
    "    length = math.hypot(x2 - x1, y2 - y1)\n",
    "\n",
    "    return length, img, [x1, y1, x2, y2, cx, cy]"
   ]
  },
  {
   "cell_type": "code",
   "execution_count": null,
   "id": "96d65c5b",
   "metadata": {},
   "outputs": [],
   "source": [
    "if __name__ == '__main__' and '__file__' not in globals():\n",
    "    capture = cv2.VideoCapture(0)\n",
    "    while 1:\n",
    "        success, img = capture.read()\n",
    "        img = findHands(img)\n",
    "        landmarks, box = position(img)\n",
    "        cv2.imshow(\"Image\", img)\n",
    "        cv2.waitKey(1)"
   ]
  },
  {
   "cell_type": "code",
   "execution_count": null,
   "id": "bd27707d",
   "metadata": {},
   "outputs": [],
   "source": []
  }
 ],
 "metadata": {
  "kernelspec": {
   "display_name": "Python 3 (ipykernel)",
   "language": "python",
   "name": "python3"
  },
  "language_info": {
   "codemirror_mode": {
    "name": "ipython",
    "version": 3
   },
   "file_extension": ".py",
   "mimetype": "text/x-python",
   "name": "python",
   "nbconvert_exporter": "python",
   "pygments_lexer": "ipython3",
   "version": "3.9.0"
  }
 },
 "nbformat": 4,
 "nbformat_minor": 5
}
