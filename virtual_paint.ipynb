{
 "cells": [
  {
   "cell_type": "code",
   "execution_count": 1,
   "id": "bcd3f75c",
   "metadata": {},
   "outputs": [],
   "source": [
    "import numpy as np\n",
    "import cv2\n",
    "import os\n",
    "%run hand_recognition.ipynb"
   ]
  },
  {
   "cell_type": "code",
   "execution_count": 2,
   "id": "32a63bc3",
   "metadata": {},
   "outputs": [],
   "source": [
    "color = (0, 255, 255)\n",
    "xp = 0\n",
    "yp = 0\n",
    "capture = cv2.VideoCapture(0)\n",
    "capture.set(3, 1280)\n",
    "capture.set(4, 720)\n",
    "imgCanvas = np.zeros((720, 1280, 3), np.uint8)"
   ]
  },
  {
   "cell_type": "markdown",
   "id": "9d8a47ba",
   "metadata": {},
   "source": []
  },
  {
   "cell_type": "code",
   "execution_count": null,
   "id": "08a7da77",
   "metadata": {},
   "outputs": [],
   "source": [
    "while 1:\n",
    "    success, img = capture.read()\n",
    "    img = cv2.flip(img, 1)\n",
    "    img = findHands(img)\n",
    "    landmarks = position(img)\n",
    "    if len(landmarks[0]) >= 20:\n",
    "        x1, y1  = landmarks[0][8][1:]\n",
    "        fingers = findFingers()\n",
    "        indexUp = fingers[1] and not fingers[0] and not fingers[2] and not fingers[3] and not fingers[4];\n",
    "        thumbUp = fingers[0] and not fingers[1] and not fingers[2] and not fingers[3] and not fingers[4]\n",
    "        \n",
    "        if indexUp or thumbUp:\n",
    "            if xp == 0 and yp == 0:\n",
    "                xp = x1\n",
    "                yp = y1\n",
    "                \n",
    "            if indexUp:\n",
    "                cv2.circle(img, (x1, y1), 10, color, cv2.FILLED)\n",
    "                cv2.line(img, (xp, yp), (x1, y1), color, 30)\n",
    "                cv2.line(imgCanvas, (xp, yp), (x1, y1), color, 30)\n",
    "            else:\n",
    "                cv2.circle(img, (x1, y1), 10, (0, 0, 0), cv2.FILLED)\n",
    "                cv2.line(img, (xp, yp), (x1, y1), (0, 0, 0), 100)\n",
    "                cv2.line(imgCanvas, (xp, yp), (x1, y1), (0, 0, 0), 100)\n",
    "            \n",
    "            xp = x1\n",
    "            yp = y1\n",
    "        else:\n",
    "            xp = 0\n",
    "            yp = 0\n",
    "            \n",
    "    imgGray = cv2.cvtColor(imgCanvas, cv2.COLOR_BGR2GRAY)\n",
    "    _, imgInv = cv2.threshold(imgGray, 50, 255, cv2.THRESH_BINARY_INV)\n",
    "    imgInv = cv2.cvtColor(imgInv,cv2.COLOR_GRAY2BGR)\n",
    "    img = cv2.bitwise_and(img,imgInv)\n",
    "    img = cv2.bitwise_or(img,imgCanvas)\n",
    "    \n",
    "    cv2.imshow(\"Image\", img)\n",
    "    cv2.waitKey(1)"
   ]
  },
  {
   "cell_type": "code",
   "execution_count": null,
   "id": "3ea6775a",
   "metadata": {},
   "outputs": [],
   "source": []
  },
  {
   "cell_type": "code",
   "execution_count": null,
   "id": "182222c6",
   "metadata": {},
   "outputs": [],
   "source": []
  }
 ],
 "metadata": {
  "kernelspec": {
   "display_name": "Python 3 (ipykernel)",
   "language": "python",
   "name": "python3"
  },
  "language_info": {
   "codemirror_mode": {
    "name": "ipython",
    "version": 3
   },
   "file_extension": ".py",
   "mimetype": "text/x-python",
   "name": "python",
   "nbconvert_exporter": "python",
   "pygments_lexer": "ipython3",
   "version": "3.9.0"
  }
 },
 "nbformat": 4,
 "nbformat_minor": 5
}
